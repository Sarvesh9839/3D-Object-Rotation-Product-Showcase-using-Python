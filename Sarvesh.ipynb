{
  "nbformat": 4,
  "nbformat_minor": 0,
  "metadata": {
    "colab": {
      "provenance": [],
      "authorship_tag": "ABX9TyO9pahtG2Z32yEHFWSHyeIM",
      "include_colab_link": true
    },
    "kernelspec": {
      "name": "python3",
      "display_name": "Python 3"
    },
    "language_info": {
      "name": "python"
    }
  },
  "cells": [
    {
      "cell_type": "markdown",
      "metadata": {
        "id": "view-in-github",
        "colab_type": "text"
      },
      "source": [
        "<a href=\"https://colab.research.google.com/github/Sarvesh9839/3D-Object-Rotation-Product-Showcase-using-Python/blob/main/Sarvesh.ipynb\" target=\"_parent\"><img src=\"https://colab.research.google.com/assets/colab-badge.svg\" alt=\"Open In Colab\"/></a>"
      ]
    },
    {
      "cell_type": "code",
      "execution_count": 4,
      "metadata": {
        "colab": {
          "base_uri": "https://localhost:8080/",
          "height": 0
        },
        "id": "YeZMMJmSGdZh",
        "outputId": "8e3e6e2d-bd9f-4d0a-d08c-c73361f4e46b"
      },
      "outputs": [
        {
          "output_type": "stream",
          "name": "stdout",
          "text": [
            "Original: [10, 20, 30, 40, 50]\n",
            "Reversed: [50, 40, 30, 20, 10]\n"
          ]
        }
      ],
      "source": [
        "def reverse_array(arr):\n",
        "  left = 0\n",
        "  right = len(arr) - 1\n",
        "\n",
        "  while left < right:\n",
        "    arr[left], arr[right], = arr[right], arr[left]\n",
        "    left += 1\n",
        "    right -= 1\n",
        "\n",
        "  return arr\n",
        "\n",
        "nums = [10, 20, 30, 40, 50]\n",
        "print(\"Original:\", nums)\n",
        "\n",
        "reverse_array(nums)\n",
        "print(\"Reversed:\", nums)\n",
        "\n",
        "\n",
        "\n"
      ]
    }
  ]
}